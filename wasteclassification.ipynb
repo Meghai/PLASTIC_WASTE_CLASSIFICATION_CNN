{
 "cells": [
  {
   "cell_type": "markdown",
   "metadata": {},
   "source": [
    "## Waste Management using CNN Model"
   ]
  },
  {
   "cell_type": "code",
   "execution_count": 1,
   "metadata": {},
   "outputs": [
    {
     "name": "stdout",
     "output_type": "stream",
     "text": [
      "Requirement already satisfied: opencv-python in c:\\python36\\lib\\site-packages\n",
      "Note: you may need to restart the kernel to use updated packages.\n"
     ]
    },
    {
     "name": "stderr",
     "output_type": "stream",
     "text": [
      "You are using pip version 9.0.3, however version 24.3.1 is available.\n",
      "You should consider upgrading via the 'python -m pip install --upgrade pip' command.\n"
     ]
    }
   ],
   "source": [
    "pip install opencv-python"
   ]
  },
  {
   "cell_type": "code",
   "execution_count": 5,
   "metadata": {},
   "outputs": [
    {
     "name": "stdout",
     "output_type": "stream",
     "text": [
      "Requirement already satisfied: tensorflow in c:\\python36\\lib\\site-packages\n",
      "Note: you may need to restart the kernel to use updated packages.Requirement already satisfied: keras-preprocessing>=1.0.5 in c:\\python36\\lib\\site-packages (from tensorflow)\n",
      "\n"
     ]
    },
    {
     "name": "stderr",
     "output_type": "stream",
     "text": [
      "You are using pip version 9.0.3, however version 24.3.1 is available.\n",
      "You should consider upgrading via the 'python -m pip install --upgrade pip' command.\n"
     ]
    },
    {
     "name": "stdout",
     "output_type": "stream",
     "text": [
      "Requirement already satisfied: keras-applications>=1.0.6 in c:\\python36\\lib\\site-packages (from tensorflow)\n",
      "Requirement already satisfied: tensorboard<1.15.0,>=1.14.0 in c:\\python36\\lib\\site-packages (from tensorflow)\n",
      "Requirement already satisfied: grpcio>=1.8.6 in c:\\python36\\lib\\site-packages (from tensorflow)\n",
      "Requirement already satisfied: wheel>=0.26 in c:\\python36\\lib\\site-packages (from tensorflow)\n",
      "Requirement already satisfied: google-pasta>=0.1.6 in c:\\python36\\lib\\site-packages (from tensorflow)\n",
      "Requirement already satisfied: protobuf>=3.6.1 in c:\\python36\\lib\\site-packages (from tensorflow)\n",
      "Requirement already satisfied: tensorflow-estimator<1.15.0rc0,>=1.14.0rc0 in c:\\python36\\lib\\site-packages (from tensorflow)\n",
      "Requirement already satisfied: absl-py>=0.7.0 in c:\\python36\\lib\\site-packages (from tensorflow)\n",
      "Requirement already satisfied: termcolor>=1.1.0 in c:\\python36\\lib\\site-packages (from tensorflow)\n",
      "Requirement already satisfied: astor>=0.6.0 in c:\\python36\\lib\\site-packages (from tensorflow)\n",
      "Requirement already satisfied: wrapt>=1.11.1 in c:\\python36\\lib\\site-packages (from tensorflow)\n",
      "Requirement already satisfied: numpy<2.0,>=1.14.5 in c:\\python36\\lib\\site-packages (from tensorflow)\n",
      "Requirement already satisfied: six>=1.10.0 in c:\\python36\\lib\\site-packages (from tensorflow)\n",
      "Requirement already satisfied: gast>=0.2.0 in c:\\python36\\lib\\site-packages (from tensorflow)\n",
      "Requirement already satisfied: h5py in c:\\python36\\lib\\site-packages (from keras-applications>=1.0.6->tensorflow)\n",
      "Requirement already satisfied: werkzeug>=0.11.15 in c:\\python36\\lib\\site-packages (from tensorboard<1.15.0,>=1.14.0->tensorflow)\n",
      "Requirement already satisfied: setuptools>=41.0.0 in c:\\python36\\lib\\site-packages (from tensorboard<1.15.0,>=1.14.0->tensorflow)\n",
      "Requirement already satisfied: markdown>=2.6.8 in c:\\python36\\lib\\site-packages (from tensorboard<1.15.0,>=1.14.0->tensorflow)\n",
      "Requirement already satisfied: dataclasses; python_version < \"3.7\" in c:\\python36\\lib\\site-packages (from werkzeug>=0.11.15->tensorboard<1.15.0,>=1.14.0->tensorflow)\n",
      "Requirement already satisfied: importlib-metadata>=4.4; python_version < \"3.10\" in c:\\python36\\lib\\site-packages (from markdown>=2.6.8->tensorboard<1.15.0,>=1.14.0->tensorflow)\n",
      "Requirement already satisfied: zipp>=0.5 in c:\\python36\\lib\\site-packages (from importlib-metadata>=4.4; python_version < \"3.10\"->markdown>=2.6.8->tensorboard<1.15.0,>=1.14.0->tensorflow)\n",
      "Requirement already satisfied: typing-extensions>=3.6.4; python_version < \"3.8\" in c:\\python36\\lib\\site-packages (from importlib-metadata>=4.4; python_version < \"3.10\"->markdown>=2.6.8->tensorboard<1.15.0,>=1.14.0->tensorflow)\n"
     ]
    }
   ],
   "source": [
    "pip install tensorflow\n"
   ]
  },
  {
   "cell_type": "code",
   "execution_count": 10,
   "metadata": {},
   "outputs": [
    {
     "name": "stdout",
     "output_type": "stream",
     "text": [
      "Requirement already satisfied: tqdm in c:\\python36\\lib\\site-packages\n",
      "Requirement already satisfied: colorama; platform_system == \"Windows\" in c:\\users\\megha\\appdata\\roaming\\python\\python36\\site-packages (from tqdm)\n",
      "Requirement already satisfied: importlib-resources; python_version < \"3.7\" in c:\\python36\\lib\\site-packages (from tqdm)\n",
      "Requirement already satisfied: zipp>=3.1.0; python_version < \"3.10\" in c:\\python36\\lib\\site-packages (from importlib-resources; python_version < \"3.7\"->tqdm)\n",
      "Note: you may need to restart the kernel to use updated packages.\n"
     ]
    },
    {
     "name": "stderr",
     "output_type": "stream",
     "text": [
      "You are using pip version 9.0.3, however version 24.3.1 is available.\n",
      "You should consider upgrading via the 'python -m pip install --upgrade pip' command.\n"
     ]
    }
   ],
   "source": [
    "pip install tqdm\n"
   ]
  },
  {
   "cell_type": "code",
   "execution_count": 9,
   "metadata": {},
   "outputs": [],
   "source": [
    "# Importing necessary libraries\n",
    "import numpy as np \n",
    "import pandas as pd\n",
    "import matplotlib.pyplot as plt\n",
    "import cv2\n",
    "from tqdm import tqdm\n",
    "import warnings\n",
    "warnings.filterwarnings('ignore')"
   ]
  },
  {
   "cell_type": "code",
   "execution_count": 11,
   "metadata": {},
   "outputs": [],
   "source": [
    "train_path=\"dataset/TRAIN\"\n",
    "test_path=\"dataset/TEST\""
   ]
  },
  {
   "cell_type": "code",
   "execution_count": 13,
   "metadata": {},
   "outputs": [],
   "source": [
    "from tensorflow.keras.models import Sequential\n",
    "from tensorflow.keras.layers import Conv2D,MaxPooling2D,Activation,Dropout,Flatten,Dense,BatchNormalization\n",
    "from tensorflow.keras.preprocessing.image import ImageDataGenerator,img_to_array,load_img\n",
    "from tensorflow.keras.utils import plot_model\n",
    "from glob import glob"
   ]
  },
  {
   "cell_type": "code",
   "execution_count": 16,
   "metadata": {},
   "outputs": [
    {
     "name": "stderr",
     "output_type": "stream",
     "text": [
      "100%|██████████| 12565/12565 [00:23<00:00, 527.02it/s]\n",
      "100%|██████████| 9999/9999 [00:17<00:00, 573.16it/s]\n"
     ]
    }
   ],
   "source": [
    "#Visualization\n",
    "x_data=[]\n",
    "y_data=[]\n",
    "for category in glob(train_path+'/*'):\n",
    "    for file in tqdm(glob(category+'/*')):\n",
    "        img_array=cv2.imread(file)\n",
    "        img_array=cv2.cvtColor(img_array,cv2.COLOR_BGR2RGB)\n",
    "        x_data.append(img_array)\n",
    "        y_data.append(category.split('/')[-1])\n",
    "data=pd.DataFrame({'image':x_data,'label':y_data})\n"
   ]
  },
  {
   "cell_type": "code",
   "execution_count": 17,
   "metadata": {},
   "outputs": [
    {
     "data": {
      "text/plain": [
       "(22564, 2)"
      ]
     },
     "execution_count": 17,
     "metadata": {},
     "output_type": "execute_result"
    }
   ],
   "source": [
    "data.shape"
   ]
  },
  {
   "cell_type": "code",
   "execution_count": 21,
   "metadata": {},
   "outputs": [
    {
     "data": {
      "image/png": "[encoded data removed]",
      "text/plain": [
       "<Figure size 432x288 with 1 Axes>"
      ]
     },
     "metadata": {},
     "output_type": "display_data"
    }
   ],
   "source": [
    "colors=['#a0d157','#c48bb8']\n",
    "plt.pie(data.label.value_counts(),labels=['Organic','Recyclable'],autopct='%0.2f%%',colors=colors,startangle=90,explode=[0.05,0.05])\n",
    "plt.show()"
   ]
  },
  {
   "cell_type": "markdown",
   "metadata": {},
   "source": [
    "we started a waste management model\n",
    "we started to import the libraries\n",
    "train pack and test pack\n",
    "tensorflow layers are used\n",
    "for the visualisation part what we tried to do is to change them to different categories\n",
    "2 labels 1 label could say organic waste and other could say recyclable waste\n",
    "next we came across pie chart and how it appears"
   ]
  },
  {
   "cell_type": "code",
   "execution_count": null,
   "metadata": {},
   "outputs": [],
   "source": []
  }
 ],
 "metadata": {
  "kernelspec": {
   "display_name": "Python 3",
   "language": "python",
   "name": "python3"
  },
  "language_info": {
   "codemirror_mode": {
    "name": "ipython",
    "version": 3
   },
   "file_extension": ".py",
   "mimetype": "text/x-python",
   "name": "python",
   "nbconvert_exporter": "python",
   "pygments_lexer": "ipython3",
   "version": "3.6.5"
  }
 },
 "nbformat": 4,
 "nbformat_minor": 2
}
